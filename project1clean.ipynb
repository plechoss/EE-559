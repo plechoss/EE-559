{
 "cells": [
  {
   "cell_type": "code",
   "execution_count": 11,
   "metadata": {},
   "outputs": [],
   "source": [
    "import torch as t\n",
    "import torch.nn as nn\n",
    "import torch.nn.functional as F\n",
    "import dlc_practical_prologue as dlc\n",
    "from torch.autograd import Variable\n",
    "\n",
    "from trainingclean import train_net, evaluate_model\n",
    "from modelsclean import ConvNet, ConvNetWeightSharing #, ConvNetAux, "
   ]
  },
  {
   "cell_type": "code",
   "execution_count": 12,
   "metadata": {},
   "outputs": [],
   "source": [
    "nb_samples = 1000"
   ]
  },
  {
   "cell_type": "code",
   "execution_count": 13,
   "metadata": {},
   "outputs": [],
   "source": [
    "train_input, train_target, train_classes, test_input, test_target, test_classes = dlc.generate_pair_sets(nb_samples)"
   ]
  },
  {
   "cell_type": "code",
   "execution_count": 14,
   "metadata": {},
   "outputs": [],
   "source": [
    "params = {}\n",
    "params['num_hidden_1'] = 10\n",
    "params['num_hidden_2'] = 20\n",
    "convnet_model, loss = train_net(ConvNet, 25, train_input, train_target, train_classes, nn.CrossEntropyLoss(), params, aux=False)"
   ]
  },
  {
   "cell_type": "code",
   "execution_count": 15,
   "metadata": {},
   "outputs": [
    {
     "name": "stdout",
     "output_type": "stream",
     "text": [
      "test error Net 23.00% 238/1000\n",
      "test error Net 23.00% 238/1000\n",
      "test error Net 22.00% 222/1000\n",
      "test error Net 21.00% 215/1000\n",
      "test error Net 22.00% 223/1000\n",
      "test error Net 22.00% 228/1000\n",
      "test error Net 23.00% 236/1000\n",
      "test error Net 21.00% 215/1000\n",
      "test error Net 22.00% 220/1000\n",
      "test error Net 24.00% 243/1000\n",
      "Test error mean 22.78%\n",
      "Test error std 1.03%\n"
     ]
    }
   ],
   "source": [
    "evaluate_model(convnet_model)"
   ]
  },
  {
   "cell_type": "code",
   "execution_count": 16,
   "metadata": {},
   "outputs": [],
   "source": [
    "weight_sharing_model, loss = train_net(ConvNetWeightSharing, 25, train_input, train_target, train_classes, nn.CrossEntropyLoss(), params, aux=False)"
   ]
  },
  {
   "cell_type": "code",
   "execution_count": 17,
   "metadata": {},
   "outputs": [
    {
     "name": "stdout",
     "output_type": "stream",
     "text": [
      "test error Net 18.00% 182/1000\n",
      "test error Net 15.00% 152/1000\n",
      "test error Net 18.00% 183/1000\n",
      "test error Net 17.00% 175/1000\n",
      "test error Net 17.00% 178/1000\n",
      "test error Net 15.00% 150/1000\n",
      "test error Net 16.00% 164/1000\n",
      "test error Net 18.00% 183/1000\n",
      "test error Net 17.00% 173/1000\n",
      "test error Net 15.00% 150/1000\n",
      "Test error mean 16.90%\n",
      "Test error std 1.39%\n"
     ]
    }
   ],
   "source": [
    "evaluate_model(weight_sharing_model)"
   ]
  },
  {
   "cell_type": "code",
   "execution_count": null,
   "metadata": {},
   "outputs": [],
   "source": [
    "weight_sharing_aux_model, loss = train_net(ConvNetWeightSharing, 25, train_input, train_target, train_classes, nn.CrossEntropyLoss(), params, aux=True)"
   ]
  },
  {
   "cell_type": "code",
   "execution_count": null,
   "metadata": {},
   "outputs": [],
   "source": [
    "evaluate_model(weight_sharing_aux_model)"
   ]
  }
 ],
 "metadata": {
  "kernelspec": {
   "display_name": "Python 3",
   "language": "python",
   "name": "python3"
  },
  "language_info": {
   "codemirror_mode": {
    "name": "ipython",
    "version": 3
   },
   "file_extension": ".py",
   "mimetype": "text/x-python",
   "name": "python",
   "nbconvert_exporter": "python",
   "pygments_lexer": "ipython3",
   "version": "3.7.7"
  }
 },
 "nbformat": 4,
 "nbformat_minor": 4
}
