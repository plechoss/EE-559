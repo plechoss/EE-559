{
 "cells": [
  {
   "cell_type": "code",
   "execution_count": 1,
   "metadata": {},
   "outputs": [],
   "source": [
    "import torch as t\n",
    "import torch.nn as nn\n",
    "import torch.nn.functional as F\n",
    "import dlc_practical_prologue as dlc\n",
    "from torch.autograd import Variable\n",
    "\n",
    "from trainingclean import train_net, evaluate_model\n",
    "from modelsclean import ConvNet, ConvNetWeightSharing #, ConvNetAux, "
   ]
  },
  {
   "cell_type": "code",
   "execution_count": 2,
   "metadata": {},
   "outputs": [],
   "source": [
    "nb_samples = 1000"
   ]
  },
  {
   "cell_type": "code",
   "execution_count": 3,
   "metadata": {},
   "outputs": [],
   "source": [
    "train_input, train_target, train_classes, test_input, test_target, test_classes = dlc.generate_pair_sets(nb_samples)"
   ]
  },
  {
   "cell_type": "code",
   "execution_count": 4,
   "metadata": {},
   "outputs": [],
   "source": [
    "t.random.manual_seed(0)\n",
    "params = {}\n",
    "params['num_hidden_1'] = 10\n",
    "params['num_hidden_2'] = 20\n",
    "convnet_model, loss = train_net(ConvNet, 25, train_input, train_target, train_classes, nn.CrossEntropyLoss(), params, aux=False)"
   ]
  },
  {
   "cell_type": "code",
   "execution_count": 5,
   "metadata": {},
   "outputs": [
    {
     "name": "stdout",
     "output_type": "stream",
     "text": [
      "test error Net 23.00% 234/1000\n",
      "test error Net 22.00% 221/1000\n",
      "test error Net 22.00% 223/1000\n",
      "test error Net 24.00% 245/1000\n",
      "test error Net 24.00% 243/1000\n",
      "test error Net 22.00% 225/1000\n",
      "test error Net 21.00% 218/1000\n",
      "test error Net 21.00% 217/1000\n",
      "test error Net 22.00% 224/1000\n",
      "test error Net 23.00% 237/1000\n",
      "Test error mean 22.87%\n",
      "Test error std 1.03%\n"
     ]
    }
   ],
   "source": [
    "evaluate_model(convnet_model)"
   ]
  },
  {
   "cell_type": "code",
   "execution_count": 6,
   "metadata": {},
   "outputs": [],
   "source": [
    "t.random.manual_seed(0)\n",
    "weight_sharing_model, loss = train_net(ConvNetWeightSharing, 25, train_input, train_target, train_classes, nn.CrossEntropyLoss(), params, aux=False)"
   ]
  },
  {
   "cell_type": "code",
   "execution_count": 7,
   "metadata": {},
   "outputs": [
    {
     "name": "stdout",
     "output_type": "stream",
     "text": [
      "test error Net 18.00% 185/1000\n",
      "test error Net 18.00% 180/1000\n",
      "test error Net 17.00% 175/1000\n",
      "test error Net 19.00% 191/1000\n",
      "test error Net 16.00% 167/1000\n",
      "test error Net 15.00% 151/1000\n",
      "test error Net 18.00% 187/1000\n",
      "test error Net 17.00% 171/1000\n",
      "test error Net 16.00% 168/1000\n",
      "test error Net 14.00% 148/1000\n",
      "Test error mean 17.23%\n",
      "Test error std 1.45%\n"
     ]
    }
   ],
   "source": [
    "evaluate_model(weight_sharing_model)"
   ]
  },
  {
   "cell_type": "code",
   "execution_count": 8,
   "metadata": {},
   "outputs": [],
   "source": [
    "t.random.manual_seed(23) # go for 23: 13.11%, tested until seed=44\n",
    "weight_sharing_aux_model, loss = train_net(ConvNetWeightSharing, 25, train_input, train_target, train_classes, nn.CrossEntropyLoss(), params, aux=True)"
   ]
  },
  {
   "cell_type": "code",
   "execution_count": 9,
   "metadata": {},
   "outputs": [
    {
     "name": "stdout",
     "output_type": "stream",
     "text": [
      "test error Net 13.00% 130/1000\n",
      "test error Net 14.00% 140/1000\n",
      "test error Net 12.00% 128/1000\n",
      "test error Net 12.00% 129/1000\n",
      "test error Net 11.00% 114/1000\n",
      "test error Net 13.00% 136/1000\n",
      "test error Net 14.00% 149/1000\n",
      "test error Net 13.00% 130/1000\n",
      "test error Net 12.00% 122/1000\n",
      "test error Net 13.00% 133/1000\n",
      "Test error mean 13.11%\n",
      "Test error std 0.95%\n"
     ]
    }
   ],
   "source": [
    "evaluate_model(weight_sharing_aux_model)"
   ]
  }
 ],
 "metadata": {
  "kernelspec": {
   "display_name": "Python 3",
   "language": "python",
   "name": "python3"
  },
  "language_info": {
   "codemirror_mode": {
    "name": "ipython",
    "version": 3
   },
   "file_extension": ".py",
   "mimetype": "text/x-python",
   "name": "python",
   "nbconvert_exporter": "python",
   "pygments_lexer": "ipython3",
   "version": "3.7.3"
  }
 },
 "nbformat": 4,
 "nbformat_minor": 4
}
