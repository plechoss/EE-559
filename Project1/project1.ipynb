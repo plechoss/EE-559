{
 "cells": [
  {
   "cell_type": "code",
   "execution_count": 3,
   "metadata": {},
   "outputs": [],
   "source": [
    "import torch as t\n",
    "import torch.nn as nn\n",
    "import torch.nn.functional as F\n",
    "import dlc_practical_prologue as dlc\n",
    "\n",
    "import matplotlib.pyplot as plt\n",
    "\n",
    "from training import train_net, evaluate_model\n",
    "from models import ConvNet, ConvNetWeightSharing"
   ]
  },
  {
   "cell_type": "code",
   "execution_count": 4,
   "metadata": {},
   "outputs": [],
   "source": [
    "nb_samples = 1000"
   ]
  },
  {
   "cell_type": "code",
   "execution_count": 5,
   "metadata": {},
   "outputs": [
    {
     "name": "stdout",
     "output_type": "stream",
     "text": [
      "Downloading http://yann.lecun.com/exdb/mnist/train-images-idx3-ubyte.gz to ./data/mnist/MNIST/raw/train-images-idx3-ubyte.gz\n"
     ]
    },
    {
     "name": "stderr",
     "output_type": "stream",
     "text": [
      "100.1%"
     ]
    },
    {
     "name": "stdout",
     "output_type": "stream",
     "text": [
      "Extracting ./data/mnist/MNIST/raw/train-images-idx3-ubyte.gz to ./data/mnist/MNIST/raw\n",
      "Downloading http://yann.lecun.com/exdb/mnist/train-labels-idx1-ubyte.gz to ./data/mnist/MNIST/raw/train-labels-idx1-ubyte.gz\n"
     ]
    },
    {
     "name": "stderr",
     "output_type": "stream",
     "text": [
      "113.5%"
     ]
    },
    {
     "name": "stdout",
     "output_type": "stream",
     "text": [
      "Extracting ./data/mnist/MNIST/raw/train-labels-idx1-ubyte.gz to ./data/mnist/MNIST/raw\n",
      "Downloading http://yann.lecun.com/exdb/mnist/t10k-images-idx3-ubyte.gz to ./data/mnist/MNIST/raw/t10k-images-idx3-ubyte.gz\n"
     ]
    },
    {
     "name": "stderr",
     "output_type": "stream",
     "text": [
      "100.4%"
     ]
    },
    {
     "name": "stdout",
     "output_type": "stream",
     "text": [
      "Extracting ./data/mnist/MNIST/raw/t10k-images-idx3-ubyte.gz to ./data/mnist/MNIST/raw\n",
      "Downloading http://yann.lecun.com/exdb/mnist/t10k-labels-idx1-ubyte.gz to ./data/mnist/MNIST/raw/t10k-labels-idx1-ubyte.gz\n"
     ]
    },
    {
     "name": "stderr",
     "output_type": "stream",
     "text": [
      "180.4%../torch/csrc/utils/tensor_numpy.cpp:141: UserWarning: The given NumPy array is not writeable, and PyTorch does not support non-writeable tensors. This means you can write to the underlying (supposedly non-writeable) NumPy array using the tensor. You may want to copy the array to protect its data or make it writeable before converting it to a tensor. This type of warning will be suppressed for the rest of this program.\n"
     ]
    },
    {
     "name": "stdout",
     "output_type": "stream",
     "text": [
      "Extracting ./data/mnist/MNIST/raw/t10k-labels-idx1-ubyte.gz to ./data/mnist/MNIST/raw\n",
      "Processing...\n",
      "Done!\n"
     ]
    }
   ],
   "source": [
    "train_input, train_target, train_classes, test_input, test_target, test_classes = dlc.generate_pair_sets(nb_samples)"
   ]
  },
  {
   "cell_type": "code",
   "execution_count": 6,
   "metadata": {},
   "outputs": [
    {
     "name": "stdout",
     "output_type": "stream",
     "text": [
      "torch.Size([1000, 2, 14, 14])\n"
     ]
    }
   ],
   "source": [
    "print(train_input.shape)"
   ]
  },
  {
   "cell_type": "code",
   "execution_count": 7,
   "metadata": {},
   "outputs": [
    {
     "data": {
      "image/png": "[encoded data removed]",
      "text/plain": [
       "<Figure size 432x288 with 2 Axes>"
      ]
     },
     "metadata": {
      "needs_background": "light"
     },
     "output_type": "display_data"
    }
   ],
   "source": [
    "fig, (ax1, ax2) = plt.subplots(1, 2)\n",
    "ax1.imshow(train_input[0,0], cmap='gray', vmin=0, vmax=255)\n",
    "ax2.imshow(train_input[0,1], cmap='gray', vmin=0, vmax=255)\n",
    "plt.savefig(\"typical_input_notext\")"
   ]
  },
  {
   "cell_type": "code",
   "execution_count": 8,
   "metadata": {},
   "outputs": [],
   "source": [
    "t.random.manual_seed(0)\n",
    "params = {}\n",
    "params['num_hidden_1'] = 10\n",
    "params['num_hidden_2'] = 20\n",
    "convnet_model, loss, test_errors, train_errors = train_net(ConvNet, 25, train_input, train_target, train_classes, test_input, test_target, test_classes, nn.CrossEntropyLoss(), params, aux=False)"
   ]
  },
  {
   "cell_type": "code",
   "execution_count": 9,
   "metadata": {},
   "outputs": [
    {
     "name": "stdout",
     "output_type": "stream",
     "text": [
      "test error Net 24.00% 242/1000\n",
      "test error Net 22.00% 220/1000\n",
      "test error Net 22.00% 221/1000\n",
      "test error Net 24.00% 246/1000\n",
      "test error Net 23.00% 238/1000\n",
      "test error Net 22.00% 225/1000\n",
      "test error Net 22.00% 225/1000\n",
      "test error Net 21.00% 215/1000\n",
      "test error Net 23.00% 231/1000\n",
      "test error Net 23.00% 239/1000\n",
      "Test error mean 23.02%\n",
      "Test error std 1.05%\n"
     ]
    }
   ],
   "source": [
    "evaluate_model(convnet_model)"
   ]
  },
  {
   "cell_type": "code",
   "execution_count": 22,
   "metadata": {},
   "outputs": [],
   "source": [
    "t.random.manual_seed(0)\n",
    "weight_sharing_model, loss, test_errors, train_errors = train_net(ConvNetWeightSharing, 25, train_input, train_target, train_classes, test_input, test_target, test_classes, nn.CrossEntropyLoss(), params, aux=False)"
   ]
  },
  {
   "cell_type": "code",
   "execution_count": 23,
   "metadata": {},
   "outputs": [
    {
     "name": "stdout",
     "output_type": "stream",
     "text": [
      "test error Net 18.00% 180/1000\n",
      "test error Net 15.00% 159/1000\n",
      "test error Net 16.00% 164/1000\n",
      "test error Net 17.00% 175/1000\n",
      "test error Net 16.00% 163/1000\n",
      "test error Net 14.00% 141/1000\n",
      "test error Net 17.00% 175/1000\n",
      "test error Net 13.00% 139/1000\n",
      "test error Net 16.00% 167/1000\n",
      "test error Net 15.00% 155/1000\n",
      "Test error mean 16.18%\n",
      "Test error std 1.38%\n"
     ]
    }
   ],
   "source": [
    "evaluate_model(weight_sharing_model)"
   ]
  },
  {
   "cell_type": "code",
   "execution_count": 24,
   "metadata": {},
   "outputs": [],
   "source": [
    "t.random.manual_seed(23) # go for 23: 13.11%, tested until seed=44\n",
    "weight_sharing_aux_model, loss, test_errors, train_errors = train_net(ConvNetWeightSharing, 25, train_input, train_target, train_classes, test_input, test_target, test_classes, nn.CrossEntropyLoss(), params, aux=True)"
   ]
  },
  {
   "cell_type": "code",
   "execution_count": 25,
   "metadata": {},
   "outputs": [
    {
     "name": "stdout",
     "output_type": "stream",
     "text": [
      "test error Net 13.00% 130/1000\n",
      "test error Net 12.00% 125/1000\n",
      "test error Net 12.00% 120/1000\n",
      "test error Net 13.00% 138/1000\n",
      "test error Net 12.00% 125/1000\n",
      "test error Net 11.00% 117/1000\n",
      "test error Net 13.00% 133/1000\n",
      "test error Net 14.00% 140/1000\n",
      "test error Net 12.00% 127/1000\n",
      "test error Net 14.00% 142/1000\n",
      "Test error mean 12.97%\n",
      "Test error std 0.85%\n"
     ]
    }
   ],
   "source": [
    "evaluate_model(weight_sharing_aux_model)"
   ]
  },
  {
   "cell_type": "code",
   "execution_count": 21,
   "metadata": {},
   "outputs": [],
   "source": [
    "def train_rounds(num_rounds, model, epochs, criterion, params, aux):\n",
    "    train_errors = t.Tensor(num_rounds)\n",
    "    test_errors = t.Tensor(num_rounds)\n",
    "    \n",
    "    for i in range(num_rounds):\n",
    "        train_input, train_target, train_classes, test_input, test_target, test_classes = dlc.generate_pair_sets(nb_samples)\n",
    "        \n",
    "        net, loss, trains, tests = train_net(model, epochs, train_input, train_target, train_classes, test_input, test_target, test_classes, criterion, params, aux)\n",
    "        \n",
    "        plt.plot(100*tests/data_in.size(0), label='testing error')\n",
    "        plt.plot(100*trains/data_in.size(0), label='training error')\n",
    "        plt.legend()\n",
    "        plt.show()\n",
    "        \n",
    "        test_output, _, _ = net(test_input)\n",
    "        \n",
    "        nb_test_errors = t.sum(test_output.argmax(dim=1)!=(test_target))\n",
    "        test_errors[i] = nb_test_errors\n",
    "        if True:\n",
    "            print('test error Net {:0.2f}% {:d}/{:d}'.format((100 * nb_test_errors) // test_input.size(0),\n",
    "                                                      nb_test_errors, test_input.size(0)))\n",
    "    test_errors = 100*test_errors/data_in.size(0)\n",
    "    print('Test error mean {:0.2f}%'.format(test_errors.mean()))\n",
    "    print('Test error std {:0.2f}%'.format(test_errors.std()))"
   ]
  },
  {
   "cell_type": "code",
   "execution_count": 22,
   "metadata": {},
   "outputs": [
    {
     "data": {
      "text/plain": [
       "<torch._C.Generator at 0x105dd5ef0>"
      ]
     },
     "execution_count": 22,
     "metadata": {},
     "output_type": "execute_result"
    }
   ],
   "source": [
    "t.random.manual_seed(2)"
   ]
  },
  {
   "cell_type": "code",
   "execution_count": 23,
   "metadata": {},
   "outputs": [
    {
     "data": {
      "image/png": "[encoded data removed]",
      "text/plain": [
       "<Figure size 432x288 with 1 Axes>"
      ]
     },
     "metadata": {
      "needs_background": "light"
     },
     "output_type": "display_data"
    },
    {
     "name": "stdout",
     "output_type": "stream",
     "text": [
      "test error Net 11.00% 119/1000\n",
      "Test error mean 11.90%\n",
      "Test error std nan%\n"
     ]
    }
   ],
   "source": [
    "train_rounds(1, ConvNetWeightSharing, 100, train_input, train_target, train_classes, nn.CrossEntropyLoss(), params, aux=True)"
   ]
  },
  {
   "cell_type": "code",
   "execution_count": null,
   "metadata": {},
   "outputs": [],
   "source": []
  }
 ],
 "metadata": {
  "kernelspec": {
   "display_name": "Python 3",
   "language": "python",
   "name": "python3"
  },
  "language_info": {
   "codemirror_mode": {
    "name": "ipython",
    "version": 3
   },
   "file_extension": ".py",
   "mimetype": "text/x-python",
   "name": "python",
   "nbconvert_exporter": "python",
   "pygments_lexer": "ipython3",
   "version": "3.7.7"
  }
 },
 "nbformat": 4,
 "nbformat_minor": 4
}
